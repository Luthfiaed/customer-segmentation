{
 "cells": [
  {
   "cell_type": "code",
   "execution_count": 3,
   "metadata": {},
   "outputs": [],
   "source": [
    "import pandas as pd\n",
    "from collections import Counter\n",
    "import matplotlib.pyplot as plt\n",
    "import seaborn as sns\n",
    "import numpy as np"
   ]
  },
  {
   "cell_type": "code",
   "execution_count": 4,
   "metadata": {},
   "outputs": [],
   "source": [
    "train_df = pd.read_csv('Train.csv')\n",
    "test_df = pd.read_csv('Test.csv')\n",
    "sample_df = pd.read_csv('sample_submission.csv')"
   ]
  },
  {
   "cell_type": "code",
   "execution_count": 5,
   "metadata": {},
   "outputs": [
    {
     "data": {
      "text/html": [
       "<div>\n",
       "<style scoped>\n",
       "    .dataframe tbody tr th:only-of-type {\n",
       "        vertical-align: middle;\n",
       "    }\n",
       "\n",
       "    .dataframe tbody tr th {\n",
       "        vertical-align: top;\n",
       "    }\n",
       "\n",
       "    .dataframe thead th {\n",
       "        text-align: right;\n",
       "    }\n",
       "</style>\n",
       "<table border=\"1\" class=\"dataframe\">\n",
       "  <thead>\n",
       "    <tr style=\"text-align: right;\">\n",
       "      <th></th>\n",
       "      <th>ID</th>\n",
       "      <th>Gender</th>\n",
       "      <th>Ever_Married</th>\n",
       "      <th>Age</th>\n",
       "      <th>Graduated</th>\n",
       "      <th>Profession</th>\n",
       "      <th>Work_Experience</th>\n",
       "      <th>Spending_Score</th>\n",
       "      <th>Family_Size</th>\n",
       "      <th>Var_1</th>\n",
       "      <th>Segmentation</th>\n",
       "    </tr>\n",
       "  </thead>\n",
       "  <tbody>\n",
       "    <tr>\n",
       "      <th>591</th>\n",
       "      <td>465006</td>\n",
       "      <td>Male</td>\n",
       "      <td>No</td>\n",
       "      <td>39</td>\n",
       "      <td>Yes</td>\n",
       "      <td>Entertainment</td>\n",
       "      <td>5.0</td>\n",
       "      <td>Low</td>\n",
       "      <td>1.0</td>\n",
       "      <td>Cat_6</td>\n",
       "      <td>A</td>\n",
       "    </tr>\n",
       "    <tr>\n",
       "      <th>4057</th>\n",
       "      <td>465237</td>\n",
       "      <td>Male</td>\n",
       "      <td>Yes</td>\n",
       "      <td>68</td>\n",
       "      <td>Yes</td>\n",
       "      <td>Lawyer</td>\n",
       "      <td>NaN</td>\n",
       "      <td>High</td>\n",
       "      <td>2.0</td>\n",
       "      <td>Cat_6</td>\n",
       "      <td>D</td>\n",
       "    </tr>\n",
       "    <tr>\n",
       "      <th>6011</th>\n",
       "      <td>465743</td>\n",
       "      <td>Female</td>\n",
       "      <td>Yes</td>\n",
       "      <td>50</td>\n",
       "      <td>Yes</td>\n",
       "      <td>Artist</td>\n",
       "      <td>1.0</td>\n",
       "      <td>Average</td>\n",
       "      <td>5.0</td>\n",
       "      <td>Cat_2</td>\n",
       "      <td>C</td>\n",
       "    </tr>\n",
       "    <tr>\n",
       "      <th>1016</th>\n",
       "      <td>461962</td>\n",
       "      <td>Male</td>\n",
       "      <td>Yes</td>\n",
       "      <td>59</td>\n",
       "      <td>Yes</td>\n",
       "      <td>Entertainment</td>\n",
       "      <td>1.0</td>\n",
       "      <td>Average</td>\n",
       "      <td>3.0</td>\n",
       "      <td>Cat_6</td>\n",
       "      <td>B</td>\n",
       "    </tr>\n",
       "    <tr>\n",
       "      <th>1481</th>\n",
       "      <td>465713</td>\n",
       "      <td>Male</td>\n",
       "      <td>Yes</td>\n",
       "      <td>59</td>\n",
       "      <td>Yes</td>\n",
       "      <td>Artist</td>\n",
       "      <td>0.0</td>\n",
       "      <td>Average</td>\n",
       "      <td>4.0</td>\n",
       "      <td>Cat_6</td>\n",
       "      <td>C</td>\n",
       "    </tr>\n",
       "  </tbody>\n",
       "</table>\n",
       "</div>"
      ],
      "text/plain": [
       "          ID  Gender Ever_Married  Age Graduated     Profession  \\\n",
       "591   465006    Male           No   39       Yes  Entertainment   \n",
       "4057  465237    Male          Yes   68       Yes         Lawyer   \n",
       "6011  465743  Female          Yes   50       Yes         Artist   \n",
       "1016  461962    Male          Yes   59       Yes  Entertainment   \n",
       "1481  465713    Male          Yes   59       Yes         Artist   \n",
       "\n",
       "      Work_Experience Spending_Score  Family_Size  Var_1 Segmentation  \n",
       "591               5.0            Low          1.0  Cat_6            A  \n",
       "4057              NaN           High          2.0  Cat_6            D  \n",
       "6011              1.0        Average          5.0  Cat_2            C  \n",
       "1016              1.0        Average          3.0  Cat_6            B  \n",
       "1481              0.0        Average          4.0  Cat_6            C  "
      ]
     },
     "execution_count": 5,
     "metadata": {},
     "output_type": "execute_result"
    }
   ],
   "source": [
    "train_df.sample(5)"
   ]
  },
  {
   "cell_type": "code",
   "execution_count": 6,
   "metadata": {},
   "outputs": [
    {
     "name": "stdout",
     "output_type": "stream",
     "text": [
      "<class 'pandas.core.frame.DataFrame'>\n",
      "RangeIndex: 8068 entries, 0 to 8067\n",
      "Data columns (total 11 columns):\n",
      " #   Column           Non-Null Count  Dtype  \n",
      "---  ------           --------------  -----  \n",
      " 0   ID               8068 non-null   int64  \n",
      " 1   Gender           8068 non-null   object \n",
      " 2   Ever_Married     7928 non-null   object \n",
      " 3   Age              8068 non-null   int64  \n",
      " 4   Graduated        7990 non-null   object \n",
      " 5   Profession       7944 non-null   object \n",
      " 6   Work_Experience  7239 non-null   float64\n",
      " 7   Spending_Score   8068 non-null   object \n",
      " 8   Family_Size      7733 non-null   float64\n",
      " 9   Var_1            7992 non-null   object \n",
      " 10  Segmentation     8068 non-null   object \n",
      "dtypes: float64(2), int64(2), object(7)\n",
      "memory usage: 693.5+ KB\n"
     ]
    }
   ],
   "source": [
    "train_df.info()"
   ]
  },
  {
   "cell_type": "markdown",
   "metadata": {},
   "source": [
    "<center><h3><i>EDA and Data Cleaning</i></h3></center>\n",
    "<hr>\n",
    "<b><i>Remove Duplicate Data</i></b>"
   ]
  },
  {
   "cell_type": "code",
   "execution_count": 7,
   "metadata": {},
   "outputs": [],
   "source": [
    "def remove_duplicate(df):\n",
    "    print(\"No. of Rows BEFORE Removing Duplicates: \", df.shape[0])\n",
    "    df.drop_duplicates(keep=\"first\", inplace=True) \n",
    "    print('No. of Rows AFTER Removing Duplicates: ', df.shape[0])\n",
    "    \n",
    "    # Make sure all IDs are unique\n",
    "    if df['ID'].nunique() != len(df['ID']):\n",
    "        # If exist, examine rows with duplicate IDs\n",
    "        id_list = Counter(df['ID'].values)\n",
    "        duplicate_id = [ID for ID, freq in id_list.iteritems() if freq > 1]\n",
    "        \n",
    "        print('Duplicate IDs with different column values:')\n",
    "        display(df[df['ID'].isin(duplicate_id)])\n",
    "    \n",
    "    return df"
   ]
  },
  {
   "cell_type": "code",
   "execution_count": 8,
   "metadata": {},
   "outputs": [
    {
     "name": "stdout",
     "output_type": "stream",
     "text": [
      "TRAIN DATASET\n",
      "No. of Rows BEFORE Removing Duplicates:  8068\n",
      "No. of Rows AFTER Removing Duplicates:  8068\n",
      "\n",
      "TEST DATASET\n",
      "No. of Rows BEFORE Removing Duplicates:  2627\n",
      "No. of Rows AFTER Removing Duplicates:  2627\n"
     ]
    }
   ],
   "source": [
    "print('TRAIN DATASET')\n",
    "train_df = remove_duplicate(train_df)\n",
    "print('\\nTEST DATASET')\n",
    "test_df = remove_duplicate(test_df)"
   ]
  },
  {
   "cell_type": "markdown",
   "metadata": {},
   "source": [
    "<br>\n",
    "<b><i>Filling Null Values</i></b>"
   ]
  },
  {
   "cell_type": "code",
   "execution_count": 9,
   "metadata": {},
   "outputs": [],
   "source": [
    "# Count Null Values per Feature\n",
    "def count_null(df):\n",
    "    nulls = df.isnull().sum()\n",
    "    columns = [col for col, null in [*nulls.items()] if null != 0]\n",
    "    \n",
    "    for col in columns :\n",
    "        print('Column {} has {} null values. Data type {}'.format(col, nulls[col], str(df[col].dtype).upper()))"
   ]
  },
  {
   "cell_type": "code",
   "execution_count": 10,
   "metadata": {},
   "outputs": [
    {
     "name": "stdout",
     "output_type": "stream",
     "text": [
      "Column Ever_Married has 140 null values. Data type OBJECT\n",
      "Column Graduated has 78 null values. Data type OBJECT\n",
      "Column Profession has 124 null values. Data type OBJECT\n",
      "Column Work_Experience has 829 null values. Data type FLOAT64\n",
      "Column Family_Size has 335 null values. Data type FLOAT64\n",
      "Column Var_1 has 76 null values. Data type OBJECT\n"
     ]
    }
   ],
   "source": [
    "count_null(train_df)"
   ]
  },
  {
   "cell_type": "code",
   "execution_count": 11,
   "metadata": {},
   "outputs": [
    {
     "name": "stdout",
     "output_type": "stream",
     "text": [
      "Column Ever_Married has 50 null values. Data type OBJECT\n",
      "Column Graduated has 24 null values. Data type OBJECT\n",
      "Column Profession has 38 null values. Data type OBJECT\n",
      "Column Work_Experience has 269 null values. Data type FLOAT64\n",
      "Column Family_Size has 113 null values. Data type FLOAT64\n",
      "Column Var_1 has 32 null values. Data type OBJECT\n"
     ]
    }
   ],
   "source": [
    "count_null(test_df)"
   ]
  },
  {
   "cell_type": "markdown",
   "metadata": {},
   "source": [
    "<br>\n",
    "<b>Work Experience</b> and <b>Family Size</b> columns have the most null values.\n",
    "<br>\n",
    "We will impute <b>Work Experience</b> based on the mean value per (Gender, Age, Graduated, Spending Score)<br>\n",
    "We will impute <b>Family Size</b> based on the mean value per (Gender, Ever Married, Age, Graduated, Spending Score)<br>\n",
    "(These demographic grouping choices are arbitrary)<br>\n",
    "For the rest of the empty values, we will impute based on Age, Gender, and Spending Score (because they are the only columns with no missing value)"
   ]
  },
  {
   "cell_type": "code",
   "execution_count": 12,
   "metadata": {},
   "outputs": [
    {
     "data": {
      "text/html": [
       "<div>\n",
       "<style scoped>\n",
       "    .dataframe tbody tr th:only-of-type {\n",
       "        vertical-align: middle;\n",
       "    }\n",
       "\n",
       "    .dataframe tbody tr th {\n",
       "        vertical-align: top;\n",
       "    }\n",
       "\n",
       "    .dataframe thead th {\n",
       "        text-align: right;\n",
       "    }\n",
       "</style>\n",
       "<table border=\"1\" class=\"dataframe\">\n",
       "  <thead>\n",
       "    <tr style=\"text-align: right;\">\n",
       "      <th></th>\n",
       "      <th>ID</th>\n",
       "      <th>Gender</th>\n",
       "      <th>Ever_Married</th>\n",
       "      <th>Age</th>\n",
       "      <th>Graduated</th>\n",
       "      <th>Profession</th>\n",
       "      <th>Work_Experience</th>\n",
       "      <th>Spending_Score</th>\n",
       "      <th>Family_Size</th>\n",
       "      <th>Var_1</th>\n",
       "      <th>Segmentation</th>\n",
       "      <th>is_train</th>\n",
       "    </tr>\n",
       "  </thead>\n",
       "  <tbody>\n",
       "    <tr>\n",
       "      <th>0</th>\n",
       "      <td>462809</td>\n",
       "      <td>Male</td>\n",
       "      <td>No</td>\n",
       "      <td>22</td>\n",
       "      <td>No</td>\n",
       "      <td>Healthcare</td>\n",
       "      <td>1.0</td>\n",
       "      <td>Low</td>\n",
       "      <td>4.0</td>\n",
       "      <td>Cat_4</td>\n",
       "      <td>D</td>\n",
       "      <td>1</td>\n",
       "    </tr>\n",
       "    <tr>\n",
       "      <th>1</th>\n",
       "      <td>462643</td>\n",
       "      <td>Female</td>\n",
       "      <td>Yes</td>\n",
       "      <td>38</td>\n",
       "      <td>Yes</td>\n",
       "      <td>Engineer</td>\n",
       "      <td>NaN</td>\n",
       "      <td>Average</td>\n",
       "      <td>3.0</td>\n",
       "      <td>Cat_4</td>\n",
       "      <td>A</td>\n",
       "      <td>1</td>\n",
       "    </tr>\n",
       "    <tr>\n",
       "      <th>2</th>\n",
       "      <td>466315</td>\n",
       "      <td>Female</td>\n",
       "      <td>Yes</td>\n",
       "      <td>67</td>\n",
       "      <td>Yes</td>\n",
       "      <td>Engineer</td>\n",
       "      <td>1.0</td>\n",
       "      <td>Low</td>\n",
       "      <td>1.0</td>\n",
       "      <td>Cat_6</td>\n",
       "      <td>B</td>\n",
       "      <td>1</td>\n",
       "    </tr>\n",
       "    <tr>\n",
       "      <th>3</th>\n",
       "      <td>461735</td>\n",
       "      <td>Male</td>\n",
       "      <td>Yes</td>\n",
       "      <td>67</td>\n",
       "      <td>Yes</td>\n",
       "      <td>Lawyer</td>\n",
       "      <td>0.0</td>\n",
       "      <td>High</td>\n",
       "      <td>2.0</td>\n",
       "      <td>Cat_6</td>\n",
       "      <td>B</td>\n",
       "      <td>1</td>\n",
       "    </tr>\n",
       "    <tr>\n",
       "      <th>4</th>\n",
       "      <td>462669</td>\n",
       "      <td>Female</td>\n",
       "      <td>Yes</td>\n",
       "      <td>40</td>\n",
       "      <td>Yes</td>\n",
       "      <td>Entertainment</td>\n",
       "      <td>NaN</td>\n",
       "      <td>High</td>\n",
       "      <td>6.0</td>\n",
       "      <td>Cat_6</td>\n",
       "      <td>A</td>\n",
       "      <td>1</td>\n",
       "    </tr>\n",
       "  </tbody>\n",
       "</table>\n",
       "</div>"
      ],
      "text/plain": [
       "       ID  Gender Ever_Married  Age Graduated     Profession  Work_Experience  \\\n",
       "0  462809    Male           No   22        No     Healthcare              1.0   \n",
       "1  462643  Female          Yes   38       Yes       Engineer              NaN   \n",
       "2  466315  Female          Yes   67       Yes       Engineer              1.0   \n",
       "3  461735    Male          Yes   67       Yes         Lawyer              0.0   \n",
       "4  462669  Female          Yes   40       Yes  Entertainment              NaN   \n",
       "\n",
       "  Spending_Score  Family_Size  Var_1 Segmentation  is_train  \n",
       "0            Low          4.0  Cat_4            D         1  \n",
       "1        Average          3.0  Cat_4            A         1  \n",
       "2            Low          1.0  Cat_6            B         1  \n",
       "3           High          2.0  Cat_6            B         1  \n",
       "4           High          6.0  Cat_6            A         1  "
      ]
     },
     "execution_count": 12,
     "metadata": {},
     "output_type": "execute_result"
    }
   ],
   "source": [
    "# Combine train and test data for convenience\n",
    "train_df['is_train'] = 1\n",
    "test_df['is_train'] = 0\n",
    "combined_df = pd.concat([train_df, test_df], ignore_index=True)\n",
    "combined_df.head()"
   ]
  },
  {
   "cell_type": "code",
   "execution_count": 13,
   "metadata": {},
   "outputs": [
    {
     "data": {
      "image/png": "[encoded data removed]",
      "text/plain": [
       "<Figure size 721.75x216 with 3 Axes>"
      ]
     },
     "metadata": {
      "needs_background": "light"
     },
     "output_type": "display_data"
    },
    {
     "data": {
      "image/png": "[encoded data removed]",
      "text/plain": [
       "<Figure size 721.75x216 with 3 Axes>"
      ]
     },
     "metadata": {
      "needs_background": "light"
     },
     "output_type": "display_data"
    },
    {
     "data": {
      "image/png": "[encoded data removed]",
      "text/plain": [
       "<Figure size 721.75x216 with 3 Axes>"
      ]
     },
     "metadata": {
      "needs_background": "light"
     },
     "output_type": "display_data"
    },
    {
     "data": {
      "image/png": "[encoded data removed]",
      "text/plain": [
       "<Figure size 721.75x216 with 3 Axes>"
      ]
     },
     "metadata": {
      "needs_background": "light"
     },
     "output_type": "display_data"
    },
    {
     "data": {
      "image/png": "[encoded data removed]",
      "text/plain": [
       "<Figure size 721.75x216 with 3 Axes>"
      ]
     },
     "metadata": {
      "needs_background": "light"
     },
     "output_type": "display_data"
    },
    {
     "data": {
      "image/png": "[encoded data removed]",
      "text/plain": [
       "<Figure size 721.75x216 with 3 Axes>"
      ]
     },
     "metadata": {
      "needs_background": "light"
     },
     "output_type": "display_data"
    },
    {
     "data": {
      "image/png": "[encoded data removed]",
      "text/plain": [
       "<Figure size 721.75x216 with 3 Axes>"
      ]
     },
     "metadata": {
      "needs_background": "light"
     },
     "output_type": "display_data"
    }
   ],
   "source": [
    "%matplotlib inline\n",
    "age_ranges = [np.arange(18,28), np.arange(28,38), np.arange(38,48), np.arange(48,58), np.arange(58,68), np.arange(68,78), np.arange(78,90)]\n",
    "\n",
    "# EDA for Marriage Status trend across demographics\n",
    "for age in age_ranges:\n",
    "    df = combined_df[combined_df['Age'].isin(age)]\n",
    "    g = sns.FacetGrid(col='Spending_Score', hue='Ever_Married', col_order=['Low','Average','High'], hue_order=['No','Yes'], data=df)\n",
    "    g.map(sns.countplot, 'Gender', order=['Male','Female'])\n",
    "    g.add_legend()\n",
    "    plt.show()"
   ]
  },
  {
   "cell_type": "code",
   "execution_count": 14,
   "metadata": {},
   "outputs": [],
   "source": [
    "# Impute Ever_Married based on chart\n",
    "'''\n",
    "Everyone older than 48 is Yes\n",
    "Every female younger than 48 who is Low Spender is No\n",
    "Every male younger than 38 who is Low Spender is No\n",
    "The rest is Yes\n",
    "'''\n",
    "\n",
    "# Everyone older than 48 is Yes\n",
    "combined_df.loc[(combined_df['Ever_Married'].isnull()) & (combined_df['Age'] >= 48), 'Ever_Married'] = 'Yes'\n",
    "\n",
    "# Females younger than 48 & Males younger than 38 who are Low Spenders is No\n",
    "condition_married = (combined_df['Ever_Married'].isnull()) & (combined_df['Age'] < 48) & (combined_df['Spending_Score'] == 'Low')\\\n",
    "                    & ((combined_df['Gender'] == 'Female') | (combined_df['Age'] < 38))\n",
    "combined_df.loc[condition_married, 'Ever_Married'] = 'No'\n",
    "\n",
    "# The remaining is Yes\n",
    "combined_df.loc[combined_df['Ever_Married'].isnull(), 'Ever_Married'] = 'Yes'"
   ]
  },
  {
   "cell_type": "code",
   "execution_count": 15,
   "metadata": {},
   "outputs": [
    {
     "data": {
      "image/png": "[encoded data removed]",
      "text/plain": [
       "<Figure size 709.25x216 with 3 Axes>"
      ]
     },
     "metadata": {
      "needs_background": "light"
     },
     "output_type": "display_data"
    },
    {
     "data": {
      "image/png": "[encoded data removed]",
      "text/plain": [
       "<Figure size 709.25x216 with 3 Axes>"
      ]
     },
     "metadata": {
      "needs_background": "light"
     },
     "output_type": "display_data"
    },
    {
     "data": {
      "image/png": "[encoded data removed]",
      "text/plain": [
       "<Figure size 709.25x216 with 3 Axes>"
      ]
     },
     "metadata": {
      "needs_background": "light"
     },
     "output_type": "display_data"
    },
    {
     "data": {
      "image/png": "[encoded data removed]",
      "text/plain": [
       "<Figure size 709.25x216 with 3 Axes>"
      ]
     },
     "metadata": {
      "needs_background": "light"
     },
     "output_type": "display_data"
    },
    {
     "data": {
      "image/png": "[encoded data removed]",
      "text/plain": [
       "<Figure size 709.25x216 with 3 Axes>"
      ]
     },
     "metadata": {
      "needs_background": "light"
     },
     "output_type": "display_data"
    },
    {
     "data": {
      "image/png": "[encoded data removed]",
      "text/plain": [
       "<Figure size 709.25x216 with 3 Axes>"
      ]
     },
     "metadata": {
      "needs_background": "light"
     },
     "output_type": "display_data"
    },
    {
     "data": {
      "image/png": "[encoded data removed]",
      "text/plain": [
       "<Figure size 709.25x216 with 3 Axes>"
      ]
     },
     "metadata": {
      "needs_background": "light"
     },
     "output_type": "display_data"
    }
   ],
   "source": [
    "# EDA for Graduation Status trend across demographics\n",
    "for age in age_ranges:\n",
    "    df = combined_df[combined_df['Age'].isin(age)]\n",
    "    g = sns.FacetGrid(col='Spending_Score', hue='Graduated', col_order=['Low','Average','High'], hue_order=['No','Yes'], data=df)\n",
    "    g.map(sns.countplot, 'Gender', order=['Male','Female'])\n",
    "    g.add_legend()\n",
    "    plt.show()"
   ]
  },
  {
   "cell_type": "code",
   "execution_count": 16,
   "metadata": {},
   "outputs": [],
   "source": [
    "# Impute Graduated based on chart\n",
    "'''\n",
    "Everyone Low Spender younger than 28 is No\n",
    "Every male Average Spender older than 77 is No\n",
    "The rest is Yes\n",
    "'''\n",
    "\n",
    "# Every Low Spender younger than 28 is No\n",
    "combined_df.loc[(combined_df['Graduated'].isnull()) & (combined_df['Age'] < 28) & (combined_df['Spending_Score'] == 'Low'), 'Graduated'] = 'No'\n",
    "\n",
    "# Every male Average Spender older than 77 is No\n",
    "combined_df.loc[(combined_df['Graduated'].isnull()) & (combined_df['Age'] > 77) & (combined_df['Gender'] == 'Male')\\\n",
    "                & (combined_df['Spending_Score'] == 'Average'), 'Graduated'] = 'No'\n",
    "\n",
    "# The rest is Yes\n",
    "combined_df.loc[(combined_df['Graduated'].isnull()), 'Graduated'] = 'Yes'"
   ]
  },
  {
   "cell_type": "code",
   "execution_count": 17,
   "metadata": {},
   "outputs": [
    {
     "data": {
      "image/png": "[encoded data removed]",
      "text/plain": [
       "<Figure size 756x216 with 3 Axes>"
      ]
     },
     "metadata": {
      "needs_background": "light"
     },
     "output_type": "display_data"
    },
    {
     "data": {
      "image/png": "[encoded data removed]",
      "text/plain": [
       "<Figure size 756x216 with 3 Axes>"
      ]
     },
     "metadata": {
      "needs_background": "light"
     },
     "output_type": "display_data"
    },
    {
     "data": {
      "image/png": "[encoded data removed]",
      "text/plain": [
       "<Figure size 756x216 with 3 Axes>"
      ]
     },
     "metadata": {
      "needs_background": "light"
     },
     "output_type": "display_data"
    },
    {
     "data": {
      "image/png": "[encoded data removed]",
      "text/plain": [
       "<Figure size 756x216 with 3 Axes>"
      ]
     },
     "metadata": {
      "needs_background": "light"
     },
     "output_type": "display_data"
    },
    {
     "data": {
      "image/png": "[encoded data removed]",
      "text/plain": [
       "<Figure size 756x216 with 3 Axes>"
      ]
     },
     "metadata": {
      "needs_background": "light"
     },
     "output_type": "display_data"
    },
    {
     "data": {
      "image/png": "[encoded data removed]",
      "text/plain": [
       "<Figure size 756x216 with 3 Axes>"
      ]
     },
     "metadata": {
      "needs_background": "light"
     },
     "output_type": "display_data"
    },
    {
     "data": {
      "image/png": "[encoded data removed]",
      "text/plain": [
       "<Figure size 756x216 with 3 Axes>"
      ]
     },
     "metadata": {
      "needs_background": "light"
     },
     "output_type": "display_data"
    }
   ],
   "source": [
    "# EDA for Profession trend across demographics\n",
    "for age in age_ranges:\n",
    "    df = combined_df[combined_df['Age'].isin(age)]\n",
    "    g = sns.FacetGrid(col='Spending_Score', hue='Profession', col_order=['Low','Average','High'], hue_order=combined_df['Profession'].unique(), data=df)\n",
    "    g.map(sns.countplot, 'Gender', order=['Male','Female'])\n",
    "    g.add_legend()\n",
    "    plt.show()"
   ]
  },
  {
   "cell_type": "code",
   "execution_count": 18,
   "metadata": {},
   "outputs": [],
   "source": [
    "'''\n",
    "Every Low Spender younger than 28 is Healthcare\n",
    "Every Low and Average Spender 38 - 67 is Artist\n",
    "Every High Spender Female 38 - 67 is Artist\n",
    "Every High Spender Male younger than 78 is Executive\n",
    "Every Low Spender 78 - 90 is Lawyer\n",
    "Every High Spender Female 78-90 is Lawyer\n",
    "The rest are pretty random so filled using ffill/bfill\n",
    "'''\n",
    "\n",
    "# Every Low Spender younger than 28 is Healthcare\n",
    "combined_df.loc[(combined_df['Profession'].isnull()) & (combined_df['Age'] < 28) & (combined_df['Spending_Score'] == 'Low'), 'Profession'] = 'Healthcare'\n",
    "\n",
    "# Everyone Low and Average Spender OR High Spender Female Age 38 - 67 is Artist\n",
    "condition_profession = (combined_df['Profession'].isnull()) & ((combined_df['Age'] >= 38) & (combined_df['Age'] <= 67))\\\n",
    "                       & ((combined_df['Spending_Score'] == 'Low') | (combined_df['Spending_Score'] == 'Average') \n",
    "                       | ((combined_df['Spending_Score'] == 'High') & (combined_df['Gender'] == 'Female')))\n",
    "combined_df.loc[condition_profession, 'Profession'] = 'Artist' \n",
    "\n",
    "# Every High Spender Male younger than 78 is Executive\n",
    "combined_df.loc[(combined_df['Profession'].isnull()) & (combined_df['Age'] < 78) & (combined_df['Spending_Score'] == 'High')\n",
    "                & (combined_df['Gender'] == 'Male'), 'Profession'] = 'Executive'\n",
    "\n",
    "# Everyone Low Spender OR High Spender Female Age 78 - 90 is Lawyer\n",
    "condition_profession_2 = (combined_df['Profession'].isnull()) & ((combined_df['Age'] >= 78) & (combined_df['Age'] <= 90))\\\n",
    "                         & ((combined_df['Spending_Score'] == 'Low') | ((combined_df['Gender'] == 'Female') & (combined_df['Spending_Score'] == 'High')))\n",
    "combined_df.loc[condition_profession_2, 'Profession'] = 'Lawyer'\n",
    "\n",
    "# The rest using ffill\n",
    "combined_df['Profession'].fillna(method='ffill', inplace=True)"
   ]
  },
  {
   "cell_type": "code",
   "execution_count": 19,
   "metadata": {},
   "outputs": [],
   "source": [
    "# For Var_1 use ffill because from the graph Cat_6 dominates every category\n",
    "combined_df['Var_1'].fillna(method='ffill', inplace=True)"
   ]
  },
  {
   "cell_type": "markdown",
   "metadata": {},
   "source": [
    "Imputing Work Experience and Family Size using the Mean Value"
   ]
  },
  {
   "cell_type": "code",
   "execution_count": 20,
   "metadata": {},
   "outputs": [
    {
     "name": "stderr",
     "output_type": "stream",
     "text": [
      "c:\\users\\luthf\\appdata\\local\\programs\\python\\python38\\lib\\site-packages\\pandas\\core\\generic.py:3936: PerformanceWarning: dropping on a non-lexsorted multi-index without a level parameter may impact performance.\n",
      "  obj = obj._drop_axis(labels, axis, level=level, errors=errors)\n"
     ]
    },
    {
     "data": {
      "text/html": [
       "<div>\n",
       "<style scoped>\n",
       "    .dataframe tbody tr th:only-of-type {\n",
       "        vertical-align: middle;\n",
       "    }\n",
       "\n",
       "    .dataframe tbody tr th {\n",
       "        vertical-align: top;\n",
       "    }\n",
       "\n",
       "    .dataframe thead tr th {\n",
       "        text-align: left;\n",
       "    }\n",
       "\n",
       "    .dataframe thead tr:last-of-type th {\n",
       "        text-align: right;\n",
       "    }\n",
       "</style>\n",
       "<table border=\"1\" class=\"dataframe\">\n",
       "  <thead>\n",
       "    <tr>\n",
       "      <th>Gender</th>\n",
       "      <th colspan=\"6\" halign=\"left\">Female</th>\n",
       "      <th colspan=\"6\" halign=\"left\">Male</th>\n",
       "    </tr>\n",
       "    <tr>\n",
       "      <th>Graduated</th>\n",
       "      <th colspan=\"3\" halign=\"left\">No</th>\n",
       "      <th colspan=\"3\" halign=\"left\">Yes</th>\n",
       "      <th colspan=\"3\" halign=\"left\">No</th>\n",
       "      <th colspan=\"3\" halign=\"left\">Yes</th>\n",
       "    </tr>\n",
       "    <tr>\n",
       "      <th>Spending_Score</th>\n",
       "      <th>Average</th>\n",
       "      <th>High</th>\n",
       "      <th>Low</th>\n",
       "      <th>Average</th>\n",
       "      <th>High</th>\n",
       "      <th>Low</th>\n",
       "      <th>Average</th>\n",
       "      <th>High</th>\n",
       "      <th>Low</th>\n",
       "      <th>Average</th>\n",
       "      <th>High</th>\n",
       "      <th>Low</th>\n",
       "    </tr>\n",
       "    <tr>\n",
       "      <th>Age</th>\n",
       "      <th></th>\n",
       "      <th></th>\n",
       "      <th></th>\n",
       "      <th></th>\n",
       "      <th></th>\n",
       "      <th></th>\n",
       "      <th></th>\n",
       "      <th></th>\n",
       "      <th></th>\n",
       "      <th></th>\n",
       "      <th></th>\n",
       "      <th></th>\n",
       "    </tr>\n",
       "  </thead>\n",
       "  <tbody>\n",
       "    <tr>\n",
       "      <th>(17, 27]</th>\n",
       "      <td>5.101190</td>\n",
       "      <td>4.416667</td>\n",
       "      <td>2.563744</td>\n",
       "      <td>4.435714</td>\n",
       "      <td>6.277778</td>\n",
       "      <td>2.228560</td>\n",
       "      <td>3.020000</td>\n",
       "      <td>3.060417</td>\n",
       "      <td>2.408193</td>\n",
       "      <td>3.306818</td>\n",
       "      <td>4.694444</td>\n",
       "      <td>2.319875</td>\n",
       "    </tr>\n",
       "    <tr>\n",
       "      <th>(27, 37]</th>\n",
       "      <td>3.503704</td>\n",
       "      <td>3.333333</td>\n",
       "      <td>3.590174</td>\n",
       "      <td>2.903522</td>\n",
       "      <td>5.824074</td>\n",
       "      <td>3.764136</td>\n",
       "      <td>3.096249</td>\n",
       "      <td>3.172222</td>\n",
       "      <td>2.486060</td>\n",
       "      <td>3.562956</td>\n",
       "      <td>6.401235</td>\n",
       "      <td>3.466261</td>\n",
       "    </tr>\n",
       "    <tr>\n",
       "      <th>(37, 47]</th>\n",
       "      <td>3.355920</td>\n",
       "      <td>1.447917</td>\n",
       "      <td>3.270763</td>\n",
       "      <td>2.950925</td>\n",
       "      <td>3.450485</td>\n",
       "      <td>3.480391</td>\n",
       "      <td>2.199771</td>\n",
       "      <td>3.479473</td>\n",
       "      <td>2.303028</td>\n",
       "      <td>2.843748</td>\n",
       "      <td>2.825331</td>\n",
       "      <td>2.974363</td>\n",
       "    </tr>\n",
       "    <tr>\n",
       "      <th>(47, 57]</th>\n",
       "      <td>2.690741</td>\n",
       "      <td>3.345238</td>\n",
       "      <td>2.535281</td>\n",
       "      <td>1.872374</td>\n",
       "      <td>1.673457</td>\n",
       "      <td>2.000111</td>\n",
       "      <td>1.415737</td>\n",
       "      <td>1.636772</td>\n",
       "      <td>1.114109</td>\n",
       "      <td>1.687486</td>\n",
       "      <td>2.170319</td>\n",
       "      <td>1.737183</td>\n",
       "    </tr>\n",
       "    <tr>\n",
       "      <th>(57, 67]</th>\n",
       "      <td>1.566667</td>\n",
       "      <td>1.722222</td>\n",
       "      <td>2.259259</td>\n",
       "      <td>1.547044</td>\n",
       "      <td>0.904798</td>\n",
       "      <td>1.875736</td>\n",
       "      <td>1.607099</td>\n",
       "      <td>1.440741</td>\n",
       "      <td>2.464286</td>\n",
       "      <td>1.354271</td>\n",
       "      <td>1.784259</td>\n",
       "      <td>1.716650</td>\n",
       "    </tr>\n",
       "    <tr>\n",
       "      <th>(67, 77]</th>\n",
       "      <td>3.083333</td>\n",
       "      <td>0.750000</td>\n",
       "      <td>1.535714</td>\n",
       "      <td>0.741667</td>\n",
       "      <td>1.649452</td>\n",
       "      <td>0.864214</td>\n",
       "      <td>0.979167</td>\n",
       "      <td>0.712738</td>\n",
       "      <td>0.912323</td>\n",
       "      <td>1.095238</td>\n",
       "      <td>1.046429</td>\n",
       "      <td>1.445250</td>\n",
       "    </tr>\n",
       "    <tr>\n",
       "      <th>(77, 87]</th>\n",
       "      <td>1.666667</td>\n",
       "      <td>0.676667</td>\n",
       "      <td>0.566667</td>\n",
       "      <td>2.333333</td>\n",
       "      <td>1.435000</td>\n",
       "      <td>0.883333</td>\n",
       "      <td>2.000000</td>\n",
       "      <td>1.228333</td>\n",
       "      <td>1.256667</td>\n",
       "      <td>NaN</td>\n",
       "      <td>0.641667</td>\n",
       "      <td>1.162500</td>\n",
       "    </tr>\n",
       "    <tr>\n",
       "      <th>(87, 97]</th>\n",
       "      <td>NaN</td>\n",
       "      <td>0.888889</td>\n",
       "      <td>1.000000</td>\n",
       "      <td>3.500000</td>\n",
       "      <td>0.687500</td>\n",
       "      <td>0.916667</td>\n",
       "      <td>NaN</td>\n",
       "      <td>0.333333</td>\n",
       "      <td>0.958333</td>\n",
       "      <td>NaN</td>\n",
       "      <td>1.547619</td>\n",
       "      <td>2.625000</td>\n",
       "    </tr>\n",
       "  </tbody>\n",
       "</table>\n",
       "</div>"
      ],
      "text/plain": [
       "Gender            Female                                                    \\\n",
       "Graduated             No                           Yes                       \n",
       "Spending_Score   Average      High       Low   Average      High       Low   \n",
       "Age                                                                          \n",
       "(17, 27]        5.101190  4.416667  2.563744  4.435714  6.277778  2.228560   \n",
       "(27, 37]        3.503704  3.333333  3.590174  2.903522  5.824074  3.764136   \n",
       "(37, 47]        3.355920  1.447917  3.270763  2.950925  3.450485  3.480391   \n",
       "(47, 57]        2.690741  3.345238  2.535281  1.872374  1.673457  2.000111   \n",
       "(57, 67]        1.566667  1.722222  2.259259  1.547044  0.904798  1.875736   \n",
       "(67, 77]        3.083333  0.750000  1.535714  0.741667  1.649452  0.864214   \n",
       "(77, 87]        1.666667  0.676667  0.566667  2.333333  1.435000  0.883333   \n",
       "(87, 97]             NaN  0.888889  1.000000  3.500000  0.687500  0.916667   \n",
       "\n",
       "Gender              Male                                                    \n",
       "Graduated             No                           Yes                      \n",
       "Spending_Score   Average      High       Low   Average      High       Low  \n",
       "Age                                                                         \n",
       "(17, 27]        3.020000  3.060417  2.408193  3.306818  4.694444  2.319875  \n",
       "(27, 37]        3.096249  3.172222  2.486060  3.562956  6.401235  3.466261  \n",
       "(37, 47]        2.199771  3.479473  2.303028  2.843748  2.825331  2.974363  \n",
       "(47, 57]        1.415737  1.636772  1.114109  1.687486  2.170319  1.737183  \n",
       "(57, 67]        1.607099  1.440741  2.464286  1.354271  1.784259  1.716650  \n",
       "(67, 77]        0.979167  0.712738  0.912323  1.095238  1.046429  1.445250  \n",
       "(77, 87]        2.000000  1.228333  1.256667       NaN  0.641667  1.162500  \n",
       "(87, 97]             NaN  0.333333  0.958333       NaN  1.547619  2.625000  "
      ]
     },
     "metadata": {},
     "output_type": "display_data"
    }
   ],
   "source": [
    "# Copy dataframe to decide impute value for Work Experience\n",
    "workexp_df = combined_df.copy()\n",
    "workexp_df = workexp_df.dropna(subset=['Work_Experience'])\n",
    "\n",
    "# Decide impute value for Work Experience\n",
    "workexp_df = workexp_df.groupby(['Gender','Graduated','Spending_Score','Age'])['Work_Experience'].mean()\n",
    "workexp_df = workexp_df.unstack(level=[0,1,2]).reset_index()\n",
    "\n",
    "# Divide age into ranges\n",
    "workexp_df = workexp_df.groupby(pd.cut(workexp_df.Age, np.arange(17,98,10))).mean().drop(columns='Age')\n",
    "display(workexp_df)"
   ]
  },
  {
   "cell_type": "code",
   "execution_count": 21,
   "metadata": {},
   "outputs": [
    {
     "name": "stderr",
     "output_type": "stream",
     "text": [
      "<ipython-input-21-75e23eb62f2e>:10: SettingWithCopyWarning: \n",
      "A value is trying to be set on a copy of a slice from a DataFrame\n",
      "\n",
      "See the caveats in the documentation: https://pandas.pydata.org/pandas-docs/stable/user_guide/indexing.html#returning-a-view-versus-a-copy\n",
      "  combined_df['Work_Experience'][index] = round(workexp_df[(gender,grad,score)].iloc[age_index], 2)\n"
     ]
    }
   ],
   "source": [
    "# Fill in null Work Experience Value in the original combined_df dataset based on values in workexp_df\n",
    "for gender in combined_df['Gender'].unique():\n",
    "    for grad in combined_df['Graduated'].unique():\n",
    "        for score in combined_df['Spending_Score'].unique():\n",
    "            age_index = 0\n",
    "            for age in workexp_df.index:\n",
    "                condition = (combined_df['Gender'] == gender) & (combined_df['Graduated'] == grad) & (combined_df['Spending_Score'] == score)\\\n",
    "                & (combined_df['Age'].isin(np.arange(age.left+1, age.right+1))) & (combined_df['Work_Experience'].isnull())\n",
    "                index = combined_df[condition].index.tolist()\n",
    "                combined_df['Work_Experience'][index] = round(workexp_df[(gender,grad,score)].iloc[age_index], 2)\n",
    "                age_index += 1"
   ]
  },
  {
   "cell_type": "code",
   "execution_count": 22,
   "metadata": {},
   "outputs": [
    {
     "name": "stderr",
     "output_type": "stream",
     "text": [
      "c:\\users\\luthf\\appdata\\local\\programs\\python\\python38\\lib\\site-packages\\pandas\\core\\generic.py:3936: PerformanceWarning: dropping on a non-lexsorted multi-index without a level parameter may impact performance.\n",
      "  obj = obj._drop_axis(labels, axis, level=level, errors=errors)\n"
     ]
    },
    {
     "data": {
      "text/html": [
       "<div>\n",
       "<style scoped>\n",
       "    .dataframe tbody tr th:only-of-type {\n",
       "        vertical-align: middle;\n",
       "    }\n",
       "\n",
       "    .dataframe tbody tr th {\n",
       "        vertical-align: top;\n",
       "    }\n",
       "\n",
       "    .dataframe thead tr th {\n",
       "        text-align: left;\n",
       "    }\n",
       "\n",
       "    .dataframe thead tr:last-of-type th {\n",
       "        text-align: right;\n",
       "    }\n",
       "</style>\n",
       "<table border=\"1\" class=\"dataframe\">\n",
       "  <thead>\n",
       "    <tr>\n",
       "      <th>Gender</th>\n",
       "      <th colspan=\"4\" halign=\"left\">Female</th>\n",
       "      <th colspan=\"4\" halign=\"left\">Male</th>\n",
       "    </tr>\n",
       "    <tr>\n",
       "      <th>Ever_Married</th>\n",
       "      <th colspan=\"2\" halign=\"left\">No</th>\n",
       "      <th colspan=\"2\" halign=\"left\">Yes</th>\n",
       "      <th colspan=\"2\" halign=\"left\">No</th>\n",
       "      <th colspan=\"2\" halign=\"left\">Yes</th>\n",
       "    </tr>\n",
       "    <tr>\n",
       "      <th>Graduated</th>\n",
       "      <th>No</th>\n",
       "      <th>Yes</th>\n",
       "      <th>No</th>\n",
       "      <th>Yes</th>\n",
       "      <th>No</th>\n",
       "      <th>Yes</th>\n",
       "      <th>No</th>\n",
       "      <th>Yes</th>\n",
       "    </tr>\n",
       "    <tr>\n",
       "      <th>Age</th>\n",
       "      <th></th>\n",
       "      <th></th>\n",
       "      <th></th>\n",
       "      <th></th>\n",
       "      <th></th>\n",
       "      <th></th>\n",
       "      <th></th>\n",
       "      <th></th>\n",
       "    </tr>\n",
       "  </thead>\n",
       "  <tbody>\n",
       "    <tr>\n",
       "      <th>(17, 27]</th>\n",
       "      <td>3.816123</td>\n",
       "      <td>3.175694</td>\n",
       "      <td>2.585648</td>\n",
       "      <td>2.833824</td>\n",
       "      <td>3.890214</td>\n",
       "      <td>3.215251</td>\n",
       "      <td>3.806124</td>\n",
       "      <td>2.892303</td>\n",
       "    </tr>\n",
       "    <tr>\n",
       "      <th>(27, 37]</th>\n",
       "      <td>3.060635</td>\n",
       "      <td>2.684042</td>\n",
       "      <td>3.102421</td>\n",
       "      <td>2.518784</td>\n",
       "      <td>3.462255</td>\n",
       "      <td>2.669955</td>\n",
       "      <td>3.169334</td>\n",
       "      <td>2.594864</td>\n",
       "    </tr>\n",
       "    <tr>\n",
       "      <th>(37, 47]</th>\n",
       "      <td>1.932492</td>\n",
       "      <td>1.669112</td>\n",
       "      <td>3.013088</td>\n",
       "      <td>2.582761</td>\n",
       "      <td>2.349206</td>\n",
       "      <td>1.834164</td>\n",
       "      <td>3.567677</td>\n",
       "      <td>2.896038</td>\n",
       "    </tr>\n",
       "    <tr>\n",
       "      <th>(47, 57]</th>\n",
       "      <td>1.487500</td>\n",
       "      <td>1.362903</td>\n",
       "      <td>3.138157</td>\n",
       "      <td>2.953410</td>\n",
       "      <td>1.729167</td>\n",
       "      <td>1.785714</td>\n",
       "      <td>3.450640</td>\n",
       "      <td>2.956973</td>\n",
       "    </tr>\n",
       "    <tr>\n",
       "      <th>(57, 67]</th>\n",
       "      <td>1.466667</td>\n",
       "      <td>1.504630</td>\n",
       "      <td>3.178724</td>\n",
       "      <td>2.662850</td>\n",
       "      <td>1.500000</td>\n",
       "      <td>1.873333</td>\n",
       "      <td>2.712086</td>\n",
       "      <td>2.548425</td>\n",
       "    </tr>\n",
       "    <tr>\n",
       "      <th>(67, 77]</th>\n",
       "      <td>2.000000</td>\n",
       "      <td>1.904762</td>\n",
       "      <td>2.094291</td>\n",
       "      <td>2.075244</td>\n",
       "      <td>2.125000</td>\n",
       "      <td>1.600000</td>\n",
       "      <td>2.255547</td>\n",
       "      <td>1.968671</td>\n",
       "    </tr>\n",
       "    <tr>\n",
       "      <th>(77, 87]</th>\n",
       "      <td>2.500000</td>\n",
       "      <td>1.500000</td>\n",
       "      <td>1.856389</td>\n",
       "      <td>1.886147</td>\n",
       "      <td>1.000000</td>\n",
       "      <td>1.500000</td>\n",
       "      <td>1.644024</td>\n",
       "      <td>1.772799</td>\n",
       "    </tr>\n",
       "    <tr>\n",
       "      <th>(87, 97]</th>\n",
       "      <td>NaN</td>\n",
       "      <td>1.000000</td>\n",
       "      <td>1.833333</td>\n",
       "      <td>2.115385</td>\n",
       "      <td>NaN</td>\n",
       "      <td>NaN</td>\n",
       "      <td>1.607143</td>\n",
       "      <td>1.816667</td>\n",
       "    </tr>\n",
       "  </tbody>\n",
       "</table>\n",
       "</div>"
      ],
      "text/plain": [
       "Gender          Female                                    Male            \\\n",
       "Ever_Married        No                 Yes                  No             \n",
       "Graduated           No       Yes        No       Yes        No       Yes   \n",
       "Age                                                                        \n",
       "(17, 27]      3.816123  3.175694  2.585648  2.833824  3.890214  3.215251   \n",
       "(27, 37]      3.060635  2.684042  3.102421  2.518784  3.462255  2.669955   \n",
       "(37, 47]      1.932492  1.669112  3.013088  2.582761  2.349206  1.834164   \n",
       "(47, 57]      1.487500  1.362903  3.138157  2.953410  1.729167  1.785714   \n",
       "(57, 67]      1.466667  1.504630  3.178724  2.662850  1.500000  1.873333   \n",
       "(67, 77]      2.000000  1.904762  2.094291  2.075244  2.125000  1.600000   \n",
       "(77, 87]      2.500000  1.500000  1.856389  1.886147  1.000000  1.500000   \n",
       "(87, 97]           NaN  1.000000  1.833333  2.115385       NaN       NaN   \n",
       "\n",
       "Gender                            \n",
       "Ever_Married       Yes            \n",
       "Graduated           No       Yes  \n",
       "Age                               \n",
       "(17, 27]      3.806124  2.892303  \n",
       "(27, 37]      3.169334  2.594864  \n",
       "(37, 47]      3.567677  2.896038  \n",
       "(47, 57]      3.450640  2.956973  \n",
       "(57, 67]      2.712086  2.548425  \n",
       "(67, 77]      2.255547  1.968671  \n",
       "(77, 87]      1.644024  1.772799  \n",
       "(87, 97]      1.607143  1.816667  "
      ]
     },
     "metadata": {},
     "output_type": "display_data"
    }
   ],
   "source": [
    "# Copy dataframe to decide impute value for Family Size\n",
    "famsize_df = combined_df.copy()\n",
    "famsize_df = famsize_df.dropna(subset=['Family_Size'])\n",
    "\n",
    "# Decide impute value for Work Experience\n",
    "famsize_df = famsize_df.groupby(by=['Gender','Ever_Married','Graduated', 'Age'])['Family_Size'].mean()\n",
    "famsize_df = famsize_df.unstack(level=[0,1,2]).reset_index()\n",
    "\n",
    "# Divide age into ranges\n",
    "famsize_df = famsize_df.groupby(pd.cut(famsize_df.Age, np.arange(17,98,10))).mean().drop(columns='Age')\n",
    "display(famsize_df)"
   ]
  },
  {
   "cell_type": "code",
   "execution_count": 23,
   "metadata": {},
   "outputs": [
    {
     "name": "stderr",
     "output_type": "stream",
     "text": [
      "<ipython-input-23-044a061e0bb7>:9: SettingWithCopyWarning: \n",
      "A value is trying to be set on a copy of a slice from a DataFrame\n",
      "\n",
      "See the caveats in the documentation: https://pandas.pydata.org/pandas-docs/stable/user_guide/indexing.html#returning-a-view-versus-a-copy\n",
      "  combined_df['Family_Size'][index] = round(famsize_df[(gender,marriage,grad)].iloc[age_index], 2)\n"
     ]
    }
   ],
   "source": [
    "for gender in combined_df['Gender'].unique():\n",
    "    for marriage in combined_df['Ever_Married'].unique():\n",
    "        for grad in combined_df['Graduated'].unique():\n",
    "            age_index = 0\n",
    "            for age in famsize_df.index:\n",
    "                condition = (combined_df['Gender'] == gender) & (combined_df['Ever_Married'] == marriage) & (combined_df['Graduated'] == grad)\\\n",
    "                & (combined_df['Age'].isin(np.arange(age.left+1, age.right+1))) & (combined_df['Family_Size'].isnull())\n",
    "                index = combined_df[condition].index.tolist()\n",
    "                combined_df['Family_Size'][index] = round(famsize_df[(gender,marriage,grad)].iloc[age_index], 2)\n",
    "                age_index += 1"
   ]
  },
  {
   "cell_type": "code",
   "execution_count": 24,
   "metadata": {},
   "outputs": [
    {
     "name": "stdout",
     "output_type": "stream",
     "text": [
      "Column Family_Size has 1 null values. Data type FLOAT64\n",
      "Column Segmentation has 2627 null values. Data type OBJECT\n"
     ]
    }
   ],
   "source": [
    "count_null(combined_df)"
   ]
  },
  {
   "cell_type": "code",
   "execution_count": 25,
   "metadata": {},
   "outputs": [
    {
     "name": "stdout",
     "output_type": "stream",
     "text": [
      "Column Segmentation has 2627 null values. Data type OBJECT\n"
     ]
    }
   ],
   "source": [
    "# Remaining 1 Family Size null (because the demographic data doesn't fit any available data). Just use ffill\n",
    "combined_df['Family_Size'].fillna(method='ffill', inplace=True)\n",
    "count_null(combined_df)"
   ]
  },
  {
   "cell_type": "code",
   "execution_count": 26,
   "metadata": {},
   "outputs": [],
   "source": [
    "from sklearn.preprocessing import LabelEncoder"
   ]
  },
  {
   "cell_type": "markdown",
   "metadata": {},
   "source": [
    "<center><h3><i>Feature Engineering</i></h3></center>"
   ]
  },
  {
   "cell_type": "code",
   "execution_count": 27,
   "metadata": {},
   "outputs": [],
   "source": [
    "categorical_columns = ['Gender','Ever_Married','Graduated','Profession','Spending_Score','Var_1']\n",
    "combined_df_encoded = combined_df.copy()\n",
    "\n",
    "for col in categorical_columns:\n",
    "    le = LabelEncoder()\n",
    "    combined_df_encoded[col] = le.fit_transform(combined_df_encoded[col].astype('str'))"
   ]
  },
  {
   "cell_type": "code",
   "execution_count": 28,
   "metadata": {},
   "outputs": [],
   "source": [
    "train_df_encoded = combined_df_encoded[combined_df_encoded['is_train'] == 1].drop(['ID', 'is_train'], axis=1)\n",
    "test_df_encoded = combined_df_encoded[combined_df_encoded['is_train'] == 0]"
   ]
  },
  {
   "cell_type": "code",
   "execution_count": 29,
   "metadata": {},
   "outputs": [],
   "source": [
    "X = train_df_encoded.drop(['Segmentation'], axis=1)\n",
    "y = train_df_encoded['Segmentation']"
   ]
  },
  {
   "cell_type": "code",
   "execution_count": 30,
   "metadata": {},
   "outputs": [],
   "source": [
    "from lightgbm import LGBMClassifier\n",
    "from sklearn.model_selection import RepeatedStratifiedKFold, GridSearchCV, RandomizedSearchCV, cross_val_score"
   ]
  },
  {
   "cell_type": "code",
   "execution_count": 31,
   "metadata": {},
   "outputs": [
    {
     "data": {
      "text/plain": [
       "0.5286929847406182"
      ]
     },
     "execution_count": 31,
     "metadata": {},
     "output_type": "execute_result"
    }
   ],
   "source": [
    "cv = RepeatedStratifiedKFold(n_repeats=2, random_state=7)\n",
    "lgb_model_1 = LGBMClassifier(reg_lambda=1, reg_alpha=1, random_state=100)\n",
    "cv_score = cross_val_score(lgb_model_1, X, y, cv=cv, scoring='accuracy', n_jobs=-1)\n",
    "np.mean(cv_score)"
   ]
  },
  {
   "cell_type": "code",
   "execution_count": 32,
   "metadata": {},
   "outputs": [],
   "source": [
    "X_test = test_df_encoded.drop(['ID', 'Segmentation', 'is_train'], axis=1) "
   ]
  },
  {
   "cell_type": "code",
   "execution_count": 33,
   "metadata": {},
   "outputs": [
    {
     "data": {
      "text/plain": [
       "LGBMClassifier(boosting_type='gbdt', class_weight=None, colsample_bytree=1.0,\n",
       "               importance_type='split', learning_rate=0.1, max_depth=-1,\n",
       "               min_child_samples=20, min_child_weight=0.001, min_split_gain=0.0,\n",
       "               n_estimators=100, n_jobs=-1, num_leaves=31, objective=None,\n",
       "               random_state=100, reg_alpha=1, reg_lambda=1, silent=True,\n",
       "               subsample=1.0, subsample_for_bin=200000, subsample_freq=0)"
      ]
     },
     "execution_count": 33,
     "metadata": {},
     "output_type": "execute_result"
    }
   ],
   "source": [
    "lgb_model_1.fit(X,y)"
   ]
  },
  {
   "cell_type": "code",
   "execution_count": 34,
   "metadata": {},
   "outputs": [],
   "source": [
    "y_test_pred = lgb_model_1.predict(X_test)"
   ]
  },
  {
   "cell_type": "code",
   "execution_count": 35,
   "metadata": {},
   "outputs": [
    {
     "name": "stderr",
     "output_type": "stream",
     "text": [
      "<ipython-input-35-d9af5efefa6a>:1: SettingWithCopyWarning: \n",
      "A value is trying to be set on a copy of a slice from a DataFrame.\n",
      "Try using .loc[row_indexer,col_indexer] = value instead\n",
      "\n",
      "See the caveats in the documentation: https://pandas.pydata.org/pandas-docs/stable/user_guide/indexing.html#returning-a-view-versus-a-copy\n",
      "  test_df_encoded['Segmentation'] = y_test_pred\n"
     ]
    }
   ],
   "source": [
    "test_df_encoded['Segmentation'] = y_test_pred\n",
    "submission_df = test_df_encoded[['ID','Segmentation']]"
   ]
  },
  {
   "cell_type": "code",
   "execution_count": 36,
   "metadata": {},
   "outputs": [],
   "source": [
    "submission_df.to_csv('submission.csv', index=False)"
   ]
  },
  {
   "cell_type": "code",
   "execution_count": 37,
   "metadata": {},
   "outputs": [],
   "source": [
    "from xgboost import XGBClassifier"
   ]
  },
  {
   "cell_type": "code",
   "execution_count": 39,
   "metadata": {},
   "outputs": [],
   "source": [
    "xgb_hyperparams = {'reg_alpha':[0,1],\n",
    "                   'reg_lambda':[0,1],\n",
    "                   'learning_rate':[0.1,0.15]}\n",
    "xgb_model = XGBClassifier()\n",
    "xgb_random_search = RandomizedSearchCV(xgb_model, xgb_hyperparams)"
   ]
  },
  {
   "cell_type": "code",
   "execution_count": 40,
   "metadata": {},
   "outputs": [
    {
     "name": "stderr",
     "output_type": "stream",
     "text": [
      "c:\\users\\luthf\\appdata\\local\\programs\\python\\python38\\lib\\site-packages\\sklearn\\model_selection\\_search.py:277: UserWarning: The total space of parameters 8 is smaller than n_iter=10. Running 8 iterations. For exhaustive searches, use GridSearchCV.\n",
      "  warnings.warn(\n",
      "c:\\users\\luthf\\appdata\\local\\programs\\python\\python38\\lib\\site-packages\\xgboost\\sklearn.py:888: UserWarning: The use of label encoder in XGBClassifier is deprecated and will be removed in a future release. To remove this warning, do the following: 1) Pass option use_label_encoder=False when constructing XGBClassifier object; and 2) Encode your labels (y) as integers starting with 0, i.e. 0, 1, 2, ..., [num_class - 1].\n",
      "  warnings.warn(label_encoder_deprecation_msg, UserWarning)\n"
     ]
    },
    {
     "name": "stdout",
     "output_type": "stream",
     "text": [
      "[20:18:18] WARNING: C:/Users/Administrator/workspace/xgboost-win64_release_1.3.0/src/learner.cc:1061: Starting in XGBoost 1.3.0, the default evaluation metric used with the objective 'multi:softprob' was changed from 'merror' to 'mlogloss'. Explicitly set eval_metric if you'd like to restore the old behavior.\n",
      "[20:18:19] WARNING: C:/Users/Administrator/workspace/xgboost-win64_release_1.3.0/src/learner.cc:1061: Starting in XGBoost 1.3.0, the default evaluation metric used with the objective 'multi:softprob' was changed from 'merror' to 'mlogloss'. Explicitly set eval_metric if you'd like to restore the old behavior.\n",
      "[20:18:20] WARNING: C:/Users/Administrator/workspace/xgboost-win64_release_1.3.0/src/learner.cc:1061: Starting in XGBoost 1.3.0, the default evaluation metric used with the objective 'multi:softprob' was changed from 'merror' to 'mlogloss'. Explicitly set eval_metric if you'd like to restore the old behavior.\n",
      "[20:18:21] WARNING: C:/Users/Administrator/workspace/xgboost-win64_release_1.3.0/src/learner.cc:1061: Starting in XGBoost 1.3.0, the default evaluation metric used with the objective 'multi:softprob' was changed from 'merror' to 'mlogloss'. Explicitly set eval_metric if you'd like to restore the old behavior.\n",
      "[20:18:22] WARNING: C:/Users/Administrator/workspace/xgboost-win64_release_1.3.0/src/learner.cc:1061: Starting in XGBoost 1.3.0, the default evaluation metric used with the objective 'multi:softprob' was changed from 'merror' to 'mlogloss'. Explicitly set eval_metric if you'd like to restore the old behavior.\n",
      "[20:18:23] WARNING: C:/Users/Administrator/workspace/xgboost-win64_release_1.3.0/src/learner.cc:1061: Starting in XGBoost 1.3.0, the default evaluation metric used with the objective 'multi:softprob' was changed from 'merror' to 'mlogloss'. Explicitly set eval_metric if you'd like to restore the old behavior.\n",
      "[20:18:24] WARNING: C:/Users/Administrator/workspace/xgboost-win64_release_1.3.0/src/learner.cc:1061: Starting in XGBoost 1.3.0, the default evaluation metric used with the objective 'multi:softprob' was changed from 'merror' to 'mlogloss'. Explicitly set eval_metric if you'd like to restore the old behavior.\n",
      "[20:18:25] WARNING: C:/Users/Administrator/workspace/xgboost-win64_release_1.3.0/src/learner.cc:1061: Starting in XGBoost 1.3.0, the default evaluation metric used with the objective 'multi:softprob' was changed from 'merror' to 'mlogloss'. Explicitly set eval_metric if you'd like to restore the old behavior.\n",
      "[20:18:26] WARNING: C:/Users/Administrator/workspace/xgboost-win64_release_1.3.0/src/learner.cc:1061: Starting in XGBoost 1.3.0, the default evaluation metric used with the objective 'multi:softprob' was changed from 'merror' to 'mlogloss'. Explicitly set eval_metric if you'd like to restore the old behavior.\n",
      "[20:18:27] WARNING: C:/Users/Administrator/workspace/xgboost-win64_release_1.3.0/src/learner.cc:1061: Starting in XGBoost 1.3.0, the default evaluation metric used with the objective 'multi:softprob' was changed from 'merror' to 'mlogloss'. Explicitly set eval_metric if you'd like to restore the old behavior.\n",
      "[20:18:28] WARNING: C:/Users/Administrator/workspace/xgboost-win64_release_1.3.0/src/learner.cc:1061: Starting in XGBoost 1.3.0, the default evaluation metric used with the objective 'multi:softprob' was changed from 'merror' to 'mlogloss'. Explicitly set eval_metric if you'd like to restore the old behavior.\n",
      "[20:18:29] WARNING: C:/Users/Administrator/workspace/xgboost-win64_release_1.3.0/src/learner.cc:1061: Starting in XGBoost 1.3.0, the default evaluation metric used with the objective 'multi:softprob' was changed from 'merror' to 'mlogloss'. Explicitly set eval_metric if you'd like to restore the old behavior.\n",
      "[20:18:31] WARNING: C:/Users/Administrator/workspace/xgboost-win64_release_1.3.0/src/learner.cc:1061: Starting in XGBoost 1.3.0, the default evaluation metric used with the objective 'multi:softprob' was changed from 'merror' to 'mlogloss'. Explicitly set eval_metric if you'd like to restore the old behavior.\n",
      "[20:18:32] WARNING: C:/Users/Administrator/workspace/xgboost-win64_release_1.3.0/src/learner.cc:1061: Starting in XGBoost 1.3.0, the default evaluation metric used with the objective 'multi:softprob' was changed from 'merror' to 'mlogloss'. Explicitly set eval_metric if you'd like to restore the old behavior.\n",
      "[20:18:33] WARNING: C:/Users/Administrator/workspace/xgboost-win64_release_1.3.0/src/learner.cc:1061: Starting in XGBoost 1.3.0, the default evaluation metric used with the objective 'multi:softprob' was changed from 'merror' to 'mlogloss'. Explicitly set eval_metric if you'd like to restore the old behavior.\n",
      "[20:18:34] WARNING: C:/Users/Administrator/workspace/xgboost-win64_release_1.3.0/src/learner.cc:1061: Starting in XGBoost 1.3.0, the default evaluation metric used with the objective 'multi:softprob' was changed from 'merror' to 'mlogloss'. Explicitly set eval_metric if you'd like to restore the old behavior.\n",
      "[20:18:35] WARNING: C:/Users/Administrator/workspace/xgboost-win64_release_1.3.0/src/learner.cc:1061: Starting in XGBoost 1.3.0, the default evaluation metric used with the objective 'multi:softprob' was changed from 'merror' to 'mlogloss'. Explicitly set eval_metric if you'd like to restore the old behavior.\n",
      "[20:18:36] WARNING: C:/Users/Administrator/workspace/xgboost-win64_release_1.3.0/src/learner.cc:1061: Starting in XGBoost 1.3.0, the default evaluation metric used with the objective 'multi:softprob' was changed from 'merror' to 'mlogloss'. Explicitly set eval_metric if you'd like to restore the old behavior.\n",
      "[20:18:37] WARNING: C:/Users/Administrator/workspace/xgboost-win64_release_1.3.0/src/learner.cc:1061: Starting in XGBoost 1.3.0, the default evaluation metric used with the objective 'multi:softprob' was changed from 'merror' to 'mlogloss'. Explicitly set eval_metric if you'd like to restore the old behavior.\n",
      "[20:18:38] WARNING: C:/Users/Administrator/workspace/xgboost-win64_release_1.3.0/src/learner.cc:1061: Starting in XGBoost 1.3.0, the default evaluation metric used with the objective 'multi:softprob' was changed from 'merror' to 'mlogloss'. Explicitly set eval_metric if you'd like to restore the old behavior.\n",
      "[20:18:39] WARNING: C:/Users/Administrator/workspace/xgboost-win64_release_1.3.0/src/learner.cc:1061: Starting in XGBoost 1.3.0, the default evaluation metric used with the objective 'multi:softprob' was changed from 'merror' to 'mlogloss'. Explicitly set eval_metric if you'd like to restore the old behavior.\n",
      "[20:18:41] WARNING: C:/Users/Administrator/workspace/xgboost-win64_release_1.3.0/src/learner.cc:1061: Starting in XGBoost 1.3.0, the default evaluation metric used with the objective 'multi:softprob' was changed from 'merror' to 'mlogloss'. Explicitly set eval_metric if you'd like to restore the old behavior.\n",
      "[20:18:42] WARNING: C:/Users/Administrator/workspace/xgboost-win64_release_1.3.0/src/learner.cc:1061: Starting in XGBoost 1.3.0, the default evaluation metric used with the objective 'multi:softprob' was changed from 'merror' to 'mlogloss'. Explicitly set eval_metric if you'd like to restore the old behavior.\n",
      "[20:18:43] WARNING: C:/Users/Administrator/workspace/xgboost-win64_release_1.3.0/src/learner.cc:1061: Starting in XGBoost 1.3.0, the default evaluation metric used with the objective 'multi:softprob' was changed from 'merror' to 'mlogloss'. Explicitly set eval_metric if you'd like to restore the old behavior.\n",
      "[20:18:45] WARNING: C:/Users/Administrator/workspace/xgboost-win64_release_1.3.0/src/learner.cc:1061: Starting in XGBoost 1.3.0, the default evaluation metric used with the objective 'multi:softprob' was changed from 'merror' to 'mlogloss'. Explicitly set eval_metric if you'd like to restore the old behavior.\n",
      "[20:18:46] WARNING: C:/Users/Administrator/workspace/xgboost-win64_release_1.3.0/src/learner.cc:1061: Starting in XGBoost 1.3.0, the default evaluation metric used with the objective 'multi:softprob' was changed from 'merror' to 'mlogloss'. Explicitly set eval_metric if you'd like to restore the old behavior.\n",
      "[20:18:47] WARNING: C:/Users/Administrator/workspace/xgboost-win64_release_1.3.0/src/learner.cc:1061: Starting in XGBoost 1.3.0, the default evaluation metric used with the objective 'multi:softprob' was changed from 'merror' to 'mlogloss'. Explicitly set eval_metric if you'd like to restore the old behavior.\n",
      "[20:18:48] WARNING: C:/Users/Administrator/workspace/xgboost-win64_release_1.3.0/src/learner.cc:1061: Starting in XGBoost 1.3.0, the default evaluation metric used with the objective 'multi:softprob' was changed from 'merror' to 'mlogloss'. Explicitly set eval_metric if you'd like to restore the old behavior.\n",
      "[20:18:49] WARNING: C:/Users/Administrator/workspace/xgboost-win64_release_1.3.0/src/learner.cc:1061: Starting in XGBoost 1.3.0, the default evaluation metric used with the objective 'multi:softprob' was changed from 'merror' to 'mlogloss'. Explicitly set eval_metric if you'd like to restore the old behavior.\n",
      "[20:18:50] WARNING: C:/Users/Administrator/workspace/xgboost-win64_release_1.3.0/src/learner.cc:1061: Starting in XGBoost 1.3.0, the default evaluation metric used with the objective 'multi:softprob' was changed from 'merror' to 'mlogloss'. Explicitly set eval_metric if you'd like to restore the old behavior.\n",
      "[20:18:51] WARNING: C:/Users/Administrator/workspace/xgboost-win64_release_1.3.0/src/learner.cc:1061: Starting in XGBoost 1.3.0, the default evaluation metric used with the objective 'multi:softprob' was changed from 'merror' to 'mlogloss'. Explicitly set eval_metric if you'd like to restore the old behavior.\n",
      "[20:18:52] WARNING: C:/Users/Administrator/workspace/xgboost-win64_release_1.3.0/src/learner.cc:1061: Starting in XGBoost 1.3.0, the default evaluation metric used with the objective 'multi:softprob' was changed from 'merror' to 'mlogloss'. Explicitly set eval_metric if you'd like to restore the old behavior.\n",
      "[20:18:54] WARNING: C:/Users/Administrator/workspace/xgboost-win64_release_1.3.0/src/learner.cc:1061: Starting in XGBoost 1.3.0, the default evaluation metric used with the objective 'multi:softprob' was changed from 'merror' to 'mlogloss'. Explicitly set eval_metric if you'd like to restore the old behavior.\n",
      "[20:18:55] WARNING: C:/Users/Administrator/workspace/xgboost-win64_release_1.3.0/src/learner.cc:1061: Starting in XGBoost 1.3.0, the default evaluation metric used with the objective 'multi:softprob' was changed from 'merror' to 'mlogloss'. Explicitly set eval_metric if you'd like to restore the old behavior.\n",
      "[20:18:56] WARNING: C:/Users/Administrator/workspace/xgboost-win64_release_1.3.0/src/learner.cc:1061: Starting in XGBoost 1.3.0, the default evaluation metric used with the objective 'multi:softprob' was changed from 'merror' to 'mlogloss'. Explicitly set eval_metric if you'd like to restore the old behavior.\n",
      "[20:18:57] WARNING: C:/Users/Administrator/workspace/xgboost-win64_release_1.3.0/src/learner.cc:1061: Starting in XGBoost 1.3.0, the default evaluation metric used with the objective 'multi:softprob' was changed from 'merror' to 'mlogloss'. Explicitly set eval_metric if you'd like to restore the old behavior.\n",
      "[20:18:58] WARNING: C:/Users/Administrator/workspace/xgboost-win64_release_1.3.0/src/learner.cc:1061: Starting in XGBoost 1.3.0, the default evaluation metric used with the objective 'multi:softprob' was changed from 'merror' to 'mlogloss'. Explicitly set eval_metric if you'd like to restore the old behavior.\n",
      "[20:18:59] WARNING: C:/Users/Administrator/workspace/xgboost-win64_release_1.3.0/src/learner.cc:1061: Starting in XGBoost 1.3.0, the default evaluation metric used with the objective 'multi:softprob' was changed from 'merror' to 'mlogloss'. Explicitly set eval_metric if you'd like to restore the old behavior.\n",
      "[20:19:00] WARNING: C:/Users/Administrator/workspace/xgboost-win64_release_1.3.0/src/learner.cc:1061: Starting in XGBoost 1.3.0, the default evaluation metric used with the objective 'multi:softprob' was changed from 'merror' to 'mlogloss'. Explicitly set eval_metric if you'd like to restore the old behavior.\n",
      "[20:19:01] WARNING: C:/Users/Administrator/workspace/xgboost-win64_release_1.3.0/src/learner.cc:1061: Starting in XGBoost 1.3.0, the default evaluation metric used with the objective 'multi:softprob' was changed from 'merror' to 'mlogloss'. Explicitly set eval_metric if you'd like to restore the old behavior.\n",
      "[20:19:02] WARNING: C:/Users/Administrator/workspace/xgboost-win64_release_1.3.0/src/learner.cc:1061: Starting in XGBoost 1.3.0, the default evaluation metric used with the objective 'multi:softprob' was changed from 'merror' to 'mlogloss'. Explicitly set eval_metric if you'd like to restore the old behavior.\n"
     ]
    },
    {
     "data": {
      "text/plain": [
       "RandomizedSearchCV(cv=None, error_score=nan,\n",
       "                   estimator=XGBClassifier(base_score=None, booster=None,\n",
       "                                           colsample_bylevel=None,\n",
       "                                           colsample_bynode=None,\n",
       "                                           colsample_bytree=None, gamma=None,\n",
       "                                           gpu_id=None, importance_type='gain',\n",
       "                                           interaction_constraints=None,\n",
       "                                           learning_rate=None,\n",
       "                                           max_delta_step=None, max_depth=None,\n",
       "                                           min_child_weight=None, missing=nan,\n",
       "                                           monotone_constraints=Non...\n",
       "                                           reg_lambda=None,\n",
       "                                           scale_pos_weight=None,\n",
       "                                           subsample=None, tree_method=None,\n",
       "                                           use_label_encoder=True,\n",
       "                                           validate_parameters=None,\n",
       "                                           verbosity=None),\n",
       "                   iid='deprecated', n_iter=10, n_jobs=None,\n",
       "                   param_distributions={'learning_rate': [0.1, 0.15],\n",
       "                                        'reg_alpha': [0, 1],\n",
       "                                        'reg_lambda': [0, 1]},\n",
       "                   pre_dispatch='2*n_jobs', random_state=None, refit=True,\n",
       "                   return_train_score=False, scoring=None, verbose=0)"
      ]
     },
     "execution_count": 40,
     "metadata": {},
     "output_type": "execute_result"
    }
   ],
   "source": [
    "xgb_random_search.fit(X,y)"
   ]
  },
  {
   "cell_type": "code",
   "execution_count": 41,
   "metadata": {},
   "outputs": [
    {
     "data": {
      "text/plain": [
       "{'reg_lambda': 0, 'reg_alpha': 1, 'learning_rate': 0.1}"
      ]
     },
     "execution_count": 41,
     "metadata": {},
     "output_type": "execute_result"
    }
   ],
   "source": [
    "xgb_random_search.best_params_"
   ]
  },
  {
   "cell_type": "code",
   "execution_count": 42,
   "metadata": {},
   "outputs": [
    {
     "data": {
      "text/plain": [
       "0.5333432435193913"
      ]
     },
     "execution_count": 42,
     "metadata": {},
     "output_type": "execute_result"
    }
   ],
   "source": [
    "xgb_random_search.best_score_"
   ]
  },
  {
   "cell_type": "code",
   "execution_count": null,
   "metadata": {},
   "outputs": [],
   "source": []
  }
 ],
 "metadata": {
  "kernelspec": {
   "display_name": "Python 3",
   "language": "python",
   "name": "python3"
  },
  "language_info": {
   "codemirror_mode": {
    "name": "ipython",
    "version": 3
   },
   "file_extension": ".py",
   "mimetype": "text/x-python",
   "name": "python",
   "nbconvert_exporter": "python",
   "pygments_lexer": "ipython3",
   "version": "3.8.1"
  }
 },
 "nbformat": 4,
 "nbformat_minor": 4
}
